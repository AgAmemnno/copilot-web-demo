{
 "cells": [
  {
   "cell_type": "code",
   "execution_count": 2,
   "id": "0692385d",
   "metadata": {},
   "outputs": [
    {
     "name": "stdout",
     "output_type": "stream",
     "text": [
      "{'lc_type': 'C', 'confidence': 0.5}\n",
      "{'lc_score': 2.0, 'lc_type': 'C', 'confidence': 0.9, 'reason': 'Conventional Commit type: feat', 'matched_keyword': 'feat'}\n",
      "{'lc_type': 'C', 'confidence': 1, 'lc_score': 4.0}\n",
      "# LC特性分析サマリー: msw [main]\n",
      "\n",
      "## ファイル種類ベース\n",
      "- C的ファイル数: 0\n",
      "- L的ファイル数: 281\n",
      "- Neutralファイル数: 317\n",
      "\n",
      "## 直近10コミットの傾向\n",
      "- C的コミット数: 0\n",
      "- L的コミット数: 10\n",
      "- Neutralコミット数: 0\n",
      "\n",
      "## 最新コミットのコード変更分析\n",
      "- 追加行数: 2\n",
      "- 削除行数: 1\n",
      "- LC特性: C (score=0.5, confidence=0.6)\n",
      "\n",
      "---\n",
      "この要約は自動分析ロジックにより生成されています。\n",
      "\n"
     ]
    }
   ],
   "source": [
    "from src.utils import estimate_lc_by_filetype, estimate_lc_by_commit_message, estimate_lc_by_code_changes, summarize_lc_analysis_to_markdown\n",
    "\n",
    "# ファイル種別からLC特性を推定\n",
    "result1 = estimate_lc_by_filetype('src/components/Button.js')\n",
    "print(result1)  # 例: {'lc_type': 'C', 'confidence': 0.5}\n",
    "\n",
    "# コミットメッセージからLC特性を推定\n",
    "result2 = estimate_lc_by_commit_message('feat: add login feature')\n",
    "print(result2)  # 例: {'lc_type': 'C', 'lc_score': 2.0, ...}\n",
    "\n",
    "# コード変更量からLC特性を推定\n",
    "result3 = estimate_lc_by_code_changes({'added_lines': 100, 'deleted_lines': 5, 'is_new_file': True})\n",
    "print(result3)  # 例: {'lc_type': 'C', 'lc_score': 3.5, ...}\n",
    "\n",
    "# リポジトリ全体をMarkdownで要約\n",
    "md = summarize_lc_analysis_to_markdown('d:/WorkSpace/branch-aioserver/msw', 'main')\n",
    "print(md)"
   ]
  }
 ],
 "metadata": {
  "kernelspec": {
   "display_name": ".venv",
   "language": "python",
   "name": "python3"
  },
  "language_info": {
   "codemirror_mode": {
    "name": "ipython",
    "version": 3
   },
   "file_extension": ".py",
   "mimetype": "text/x-python",
   "name": "python",
   "nbconvert_exporter": "python",
   "pygments_lexer": "ipython3",
   "version": "3.13.0"
  }
 },
 "nbformat": 4,
 "nbformat_minor": 5
}
