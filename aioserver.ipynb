{
  "cells": [
    {
      "cell_type": "markdown",
      "metadata": {
        "colab_type": "text",
        "id": "view-in-github"
      },
      "source": [
        "<a href=\"https://colab.research.google.com/github/AgAmemnno/copilot-web-demo/blob/ai-studio-github-communication/aioserver.ipynb\" target=\"_parent\"><img src=\"https://colab.research.google.com/assets/colab-badge.svg\" alt=\"Open In Colab\"/></a>"
      ]
    },
    {
      "cell_type": "markdown",
      "metadata": {
        "id": "kLa4yI8GMkEy"
      },
      "source": [
        "# Dependency"
      ]
    },
    {
      "cell_type": "code",
      "execution_count": null,
      "metadata": {
        "colab": {
          "base_uri": "https://localhost:8080/"
        },
        "id": "EvlnMwnJLgrT",
        "outputId": "85ac3494-c2eb-4e80-d835-cf77693f1caf"
      },
      "outputs": [
        {
          "name": "stdout",
          "output_type": "stream",
          "text": [
            "Mounted at /content/drive\n"
          ]
        },
        {
          "name": "stderr",
          "output_type": "stream",
          "text": [
            "2025-04-18 23:58:06,109 - INFO - NumExpr defaulting to 8 threads.\n"
          ]
        },
        {
          "name": "stdout",
          "output_type": "stream",
          "text": [
            "Agentifica package initialized.\n"
          ]
        }
      ],
      "source": [
        "import nest_asyncio\n",
        "import asyncio\n",
        "from aiohttp import web\n",
        "import os\n",
        "import io\n",
        "import json\n",
        "import google\n",
        "from google.colab import userdata # Secretsにアクセスするため\n",
        "from google.colab import auth # Google認証用\n",
        "import gspread # Google Sheets操作用\n",
        "from google.oauth2.credentials import Credentials # 認証情報用\n",
        "import re\n",
        "import sys\n",
        "from google.colab import drive\n",
        "import logging\n",
        "from datetime import datetime\n",
        "import time\n",
        "# Agentificaモジュールをインポート (パスが通っている前提)\n",
        "# import sys\n",
        "# sys.path.append('/path/to/agentifica_parent_dir') # 必要に応じてパス追加\n",
        "\n",
        "from langchain_core.prompts import ChatPromptTemplate, SystemMessagePromptTemplate, HumanMessagePromptTemplate, AIMessagePromptTemplate\n",
        "from langchain_core.messages import BaseMessage # メッセージリスト用\n",
        "\n",
        "drive.mount('/content/drive', force_remount=True)\n",
        "sys.path.append(\"/content/drive/MyDrive/.venv/lib/python3.11/site-packages\")\n",
        "sys.path.append('/content/drive/MyDrive/.venv/mylib/')\n",
        "\n",
        "from agentifica.nmf import *\n",
        "from agentifica.prompt import *\n",
        "from agentifica.pipeline import *\n",
        "from agentifica.repository_analyzer import *\n",
        "\n",
        "from agentifica.postgres import *\n",
        "from langchain.output_parsers.structured import ResponseSchema\n",
        "\n",
        "import pprint\n",
        "import logging\n",
        "\n",
        "logging.basicConfig(\n",
        "    level=logging.INFO,\n",
        "    format=\"%(asctime)s - %(levelname)s - %(message)s\",\n",
        "    force=True\n",
        ")\n",
        "sd_path = \"/content/drive/Shareddrives/{}\""
      ]
    },
    {
      "cell_type": "markdown",
      "metadata": {
        "id": "w6PnbBKIT6cg"
      },
      "source": [
        "# Global instance"
      ]
    },
    {
      "cell_type": "code",
      "execution_count": null,
      "metadata": {
        "id": "a1usD4woT4y5"
      },
      "outputs": [],
      "source": [
        "generator = Generator() # 例\n",
        "generator.cert(vai = False)\n",
        "#fdb = FileDB(generator.client )\n",
        "#ctx = Context(generator.client )\n",
        "#pro = Prompter()\n"
      ]
    },
    {
      "cell_type": "markdown",
      "metadata": {
        "id": "UsLhCM7Ezw7N"
      },
      "source": [
        "# 定数"
      ]
    },
    {
      "cell_type": "markdown",
      "metadata": {
        "id": "Vao9xKNP4N9Y"
      },
      "source": [
        "<!DOCTYPE html>\n",
        "<html lang=\"ja\">\n",
        "<head>\n",
        "    <meta charset=\"UTF-8\">\n",
        "    <meta name=\"viewport\" content=\"width=device-width, initial-scale=1.0\">\n",
        "    <title>テキスト長・文字数固定調整 テスターベース</title>\n",
        "    <style>\n",
        "        /* Google Fonts の読み込み */\n",
        "        @import url('https://fonts.googleapis.com/css2?family=Inter:wght@400;700&display=swap');\n",
        "        @import url('https://fonts.googleapis.com/css2?family=Roboto+Slab:wght@400;700&display=swap');\n",
        "        @import url('https://fonts.googleapis.com/css2?family=Source+Code+Pro:wght@400;700&display=swap');\n",
        "        @import url('https://fonts.googleapis.com/css2?family=Merriweather:wght@400;700&display=swap');\n",
        "        @import url('https://fonts.googleapis.com/css2?family=Noto+Sans+JP:wght@400;700&display=swap');\n",
        "        @import url('https://fonts.googleapis.com/css2?family=Roboto+Flex:opsz,slnt,wdth,wght@8..144,-10..0,25..151,100..1000&display=swap');\n",
        "\n",
        "        :root {\n",
        "            --root-font-size: 16px;\n",
        "            --writing-mode: horizontal-tb;\n",
        "            --direction: ltr;\n",
        "        }\n",
        "\n",
        "        html {\n",
        "            font-family: 'Inter', sans-serif;\n",
        "            font-size: var(--root-font-size);\n",
        "            writing-mode: var(--writing-mode);\n",
        "            direction: var(--direction);\n",
        "        }\n",
        "\n",
        "        body {\n",
        "            background-color: #f0f4f8;\n",
        "            color: #2d3748;\n",
        "            margin: 0;\n",
        "            padding: 20px;\n",
        "            display: flex;\n",
        "            flex-direction: column;\n",
        "            align-items: center;\n",
        "            min-height: 100vh;\n",
        "        }\n",
        "\n",
        "        .app-container {\n",
        "            margin-block-start: 20px;\n",
        "            margin-block-end: 20px;\n",
        "            margin-inline-start: auto;\n",
        "            margin-inline-end: auto;\n",
        "            max-inline-size: 64rem;\n",
        "            background-color: #ffffff;\n",
        "            box-shadow: 0 10px 15px -3px rgba(0, 0, 0, 0.1), 0 4px 6px -2px rgba(0, 0, 0, 0.05);\n",
        "            border-radius: 0.5rem;\n",
        "            padding-block: 1.5rem;\n",
        "            padding-inline: 1.5rem;\n",
        "            box-sizing: border-box;\n",
        "        }\n",
        "        @media (min-inline-size: 768px) {\n",
        "            .app-container {\n",
        "                padding-block: 2rem;\n",
        "                padding-inline: 2rem;\n",
        "            }\n",
        "        }\n",
        "\n",
        "        header {\n",
        "            margin-block-end: 1rem;\n",
        "            text-align: center;\n",
        "        }\n",
        "\n",
        "        header h1 {\n",
        "            font-size: 1.875rem;\n",
        "            line-height: 1.2;\n",
        "            font-weight: 700;\n",
        "            color: #2563eb;\n",
        "        }\n",
        "\n",
        "        header p {\n",
        "            color: #4b5563;\n",
        "            margin-block-start: 0.5rem;\n",
        "        }\n",
        "        \n",
        "        .control-panel {\n",
        "            background-color: #ffffff;\n",
        "            padding: 20px;\n",
        "            border-radius: 8px;\n",
        "            box-shadow: 0 4px 12px rgba(0,0,0,0.1);\n",
        "            margin-block-end: 30px;\n",
        "            inline-size: 100%;\n",
        "            max-inline-size: 600px;\n",
        "            display: grid;\n",
        "            grid-template-columns: repeat(auto-fit, minmax(250px, 1fr));\n",
        "            gap: 20px;\n",
        "            border: 1px solid #e2e8f0;\n",
        "        }\n",
        "\n",
        "        .control-panel h2 {\n",
        "            grid-column: 1 / -1;\n",
        "            font-size: 1.5em;\n",
        "            font-weight: 700;\n",
        "            color: #2c5282;\n",
        "            margin-block-start: 0;\n",
        "            margin-block-end: 10px;\n",
        "            border-block-end: 2px solid #e2e8f0;\n",
        "            padding-block-end: 10px;\n",
        "        }\n",
        "        \n",
        "        .control-group {\n",
        "            background-color: #f7fafc;\n",
        "            padding: 15px;\n",
        "            border-radius: 6px;\n",
        "            border: 1px solid #e2e8f0;\n",
        "        }\n",
        "\n",
        "        .control-group label {\n",
        "            display: block;\n",
        "            font-weight: 600;\n",
        "            margin-block-end: 8px;\n",
        "            color: #4a5568;\n",
        "            font-size: 0.9em;\n",
        "        }\n",
        "\n",
        "        .control-group input[type=\"number\"],\n",
        "        .control-group select {\n",
        "            inline-size: 100%;\n",
        "            padding-block: 10px;\n",
        "            padding-inline: 10px;\n",
        "            border: 1px solid #cbd5e0;\n",
        "            border-radius: 4px;\n",
        "            box-sizing: border-box;\n",
        "            font-size: 1em;\n",
        "            margin-block-start: 4px;\n",
        "        }\n",
        "        .control-group input[type=\"number\"]:focus,\n",
        "        .control-group select:focus {\n",
        "            outline: 2px solid transparent;\n",
        "            outline-offset: 2px;\n",
        "            border-color: #4f46e5;\n",
        "            box-shadow: 0 0 0 3px rgba(79, 70, 229, 0.3);\n",
        "        }\n",
        "\n",
        "        #taskSpecificArea { /* 新しいタスクのための表示エリア */\n",
        "            margin-block-start: 2rem;\n",
        "            padding: 1.5rem;\n",
        "            border: 2px dashed #60a5fa; /* Blue dashed border */\n",
        "            border-radius: 0.375rem;\n",
        "            background-color: #eff6ff; /* Light blue background */\n",
        "            min-block-size: 200px;\n",
        "        }\n",
        "        #taskSpecificArea h2 {\n",
        "            font-size: 1.25rem;\n",
        "            font-weight: 600;\n",
        "            color: #1e40af; /* Darker blue */\n",
        "            margin-block-start: 0;\n",
        "            margin-block-end: 1rem;\n",
        "        }\n",
        "\n",
        "    </style>\n",
        "</head>\n",
        "<body>\n",
        "    <div class=\"control-panel\">\n",
        "        <h2>グローバル環境設定</h2>\n",
        "        <div class=\"control-group\">\n",
        "            <label for=\"writingModeSelect\">書字方向 (Writing Mode):</label>\n",
        "            <select id=\"writingModeSelect\">\n",
        "                <option value=\"horizontal-tb\" selected>horizontal-tb (横書き)</option>\n",
        "                <option value=\"vertical-rl\">vertical-rl (縦書き・右から)</option>\n",
        "                <option value=\"vertical-lr\">vertical-lr (縦書き・左から)</option>\n",
        "            </select>\n",
        "        </div>\n",
        "        <div class=\"control-group\">\n",
        "            <label for=\"directionSelect\">テキスト方向 (Direction):</label>\n",
        "            <select id=\"directionSelect\">\n",
        "                <option value=\"ltr\" selected>ltr (左から右へ / 上から下へ)</option>\n",
        "                <option value=\"rtl\">rtl (右から左へ / 下から上へ)</option>\n",
        "            </select>\n",
        "        </div>\n",
        "        <div class=\"control-group\">\n",
        "            <label for=\"rootFontSize\">ルートフォントサイズ (px):</label>\n",
        "            <input type=\"number\" id=\"rootFontSize\" value=\"16\" min=\"8\">\n",
        "        </div>\n",
        "        <div class=\"control-group\">\n",
        "            <label for=\"fontFamilySelect\">フォントファミリー:</label>\n",
        "            <select id=\"fontFamilySelect\">\n",
        "                <option value=\"'Inter', sans-serif\">Inter</option>\n",
        "                <option value=\"'Roboto Flex', sans-serif\">Roboto Flex</option>\n",
        "                <option value=\"'Roboto Slab', serif\">Roboto Slab</option>\n",
        "                <option value=\"'Source Code Pro', monospace\">Source Code Pro</option>\n",
        "                <option value=\"'Merriweather', serif\">Merriweather</option>\n",
        "                <option value=\"'Noto Sans JP', sans-serif\">Noto Sans JP</option>\n",
        "                <option value=\"serif\">Serif (Generic)</option>\n",
        "                <option value=\"sans-serif\">Sans-serif (Generic)</option>\n",
        "            </select>\n",
        "        </div>\n",
        "    </div>\n",
        "    \n",
        "    <div class=\"app-container\">\n",
        "        <header>\n",
        "            <h1>テキスト長・文字数固定調整</h1>\n",
        "            <p>指定された文字数のテキストを、目標の長さに収めるための調整を行います。</p>\n",
        "        </header>\n",
        "        \n",
        "        <div id=\"taskSpecificArea\">\n",
        "            <h2>調整エリア (ここにUIと表示が追加されます)</h2>\n",
        "            </div>\n",
        "    </div>\n",
        "\n",
        "    <script>\n",
        "        // --- DOM Element References ---\n",
        "        const rootFontSizeInputElement = document.getElementById('rootFontSize');\n",
        "        const fontFamilySelectElement = document.getElementById('fontFamilySelect');\n",
        "        const writingModeSelectElement = document.getElementById('writingModeSelect');\n",
        "        const directionSelectElement = document.getElementById('directionSelect');\n",
        "        const taskSpecificArea = document.getElementById('taskSpecificArea');\n",
        "\n",
        "        // --- Helper Functions (Keep for potential use in new task) ---\n",
        "        function measureDimension(unitToMeasure, options = {}) {\n",
        "            const tempEl = document.createElement('div');\n",
        "            const referenceElement = options.referenceElement || document.documentElement;\n",
        "            const refStyle = window.getComputedStyle(referenceElement);\n",
        "\n",
        "            tempEl.style.fontFamily = refStyle.fontFamily;\n",
        "            tempEl.style.fontSize = options.fontSizeToApply || refStyle.fontSize;\n",
        "            tempEl.style.writingMode = options.writingMode || refStyle.writingMode;\n",
        "            tempEl.style.direction = options.direction || refStyle.direction;    \n",
        "\n",
        "            tempEl.style.position = 'absolute';\n",
        "            tempEl.style.visibility = 'hidden';\n",
        "            tempEl.style.padding = '0';\n",
        "            tempEl.style.border = '0';\n",
        "            tempEl.style.lineHeight = 'normal';\n",
        "\n",
        "            let dimension = 0;\n",
        "\n",
        "            if (unitToMeasure.endsWith('ex') || unitToMeasure.endsWith('cap') || unitToMeasure.endsWith('lh') || unitToMeasure.endsWith('rem') || unitToMeasure.endsWith('em')) {\n",
        "                tempEl.style.blockSize = unitToMeasure;\n",
        "                tempEl.style.inlineSize = '1px';\n",
        "            } else if (unitToMeasure.endsWith('ch')) {\n",
        "                tempEl.style.inlineSize = unitToMeasure;\n",
        "                tempEl.style.blockSize = '1px';\n",
        "            } else {\n",
        "                // console.warn(\"Unsupported unit for measurement:\", unitToMeasure);\n",
        "                return 0; // Return 0 if unit is not recognized for simple measurement\n",
        "            }\n",
        "            \n",
        "            document.body.appendChild(tempEl);\n",
        "            const rect = tempEl.getBoundingClientRect();\n",
        "            \n",
        "            if (unitToMeasure.endsWith('ex') || unitToMeasure.endsWith('cap') || unitToMeasure.endsWith('lh') || unitToMeasure.endsWith('rem') || unitToMeasure.endsWith('em')) {\n",
        "                dimension = rect.height;\n",
        "            } else if (unitToMeasure.endsWith('ch')) {\n",
        "                dimension = rect.width;\n",
        "            }\n",
        "            \n",
        "            document.body.removeChild(tempEl);\n",
        "            return dimension;\n",
        "        }\n",
        "\n",
        "        // --- Main Logic ---\n",
        "        function applyGlobalStyles() {\n",
        "            const newRootFontSize = parseFloat(rootFontSizeInputElement.value);\n",
        "            if (!isNaN(newRootFontSize) && newRootFontSize > 0) {\n",
        "                document.documentElement.style.setProperty('--root-font-size', `${newRootFontSize}px`);\n",
        "                document.documentElement.style.fontSize = `var(--root-font-size)`;\n",
        "            }\n",
        "            document.documentElement.style.fontFamily = fontFamilySelectElement.value;\n",
        "            document.documentElement.style.writingMode = writingModeSelectElement.value;\n",
        "            document.documentElement.style.direction = directionSelectElement.value;\n",
        "            \n",
        "            // Future: Trigger re-calculation for the new task if needed\n",
        "            console.log(\"Global styles applied. Root Font Size:\", newRootFontSize, \"Family:\", fontFamilySelectElement.value);\n",
        "            console.log(\"Writing Mode:\", writingModeSelectElement.value, \"Direction:\", directionSelectElement.value);\n",
        "\n",
        "            // Example: Display current root font size in a dedicated element if it exists\n",
        "            const rootFontSizeDisplay = document.getElementById('rootFontSizeDisplay'); // Placeholder ID\n",
        "            if(rootFontSizeDisplay) rootFontSizeDisplay.textContent = `${newRootFontSize.toFixed(2)}px`;\n",
        "        }\n",
        "\n",
        "        // --- Event Listeners ---\n",
        "        [rootFontSizeInputElement, fontFamilySelectElement, writingModeSelectElement, directionSelectElement].forEach(el => {\n",
        "            if (el) el.addEventListener('input', applyGlobalStyles);\n",
        "        });\n",
        "        \n",
        "        // --- Initial Display ---\n",
        "        document.fonts.ready.then(() => {\n",
        "            applyGlobalStyles();\n",
        "            // Placeholder for new task initialization\n",
        "            taskSpecificArea.innerHTML += \"<p>新しいタスクのUIと表示をここに追加します。</p>\";\n",
        "        }).catch(err => {\n",
        "            console.error(\"Font loading error:\", err);\n",
        "            taskSpecificArea.innerHTML = \"<p style='color:red;'>フォントの読み込みに失敗しました。ページを再読み込みしてください。</p>\";\n",
        "        });\n",
        "    </script>\n",
        "</body>\n",
        "</html>\n"
      ]
    },
    {
      "cell_type": "code",
      "execution_count": null,
      "metadata": {
        "id": "20-n6yOhxNdg"
      },
      "outputs": [],
      "source": [
        "# 例: プロンプトディレクトリパス\n",
        "MODULE_DIR=\"/content/drive/MyDrive/.venv/mylib/agentifica\"\n",
        "PROMPT_DIR = f'{MODULE_DIR}/prompts/'\n",
        "os.makedirs(PROMPT_DIR, exist_ok=True) # なければ作成\n",
        "UPLOAD_METADATA_DIR=\"/content/drive/MyDrive/web-server/colab\"\n",
        "\n",
        "# --- 設定 ---\n",
        "\n",
        "OUTPUT_DIR_IDCSA = f'{MODULE_DIR}/outputs/idcsa/'\n",
        "os.makedirs(OUTPUT_DIR_IDCSA, exist_ok=True) # 出力ディレクトリ作成\n",
        "\n",
        "\n",
        "CTX_NAME  = \"ContextIDCSA\"\n"
      ]
    },
    {
      "cell_type": "code",
      "execution_count": null,
      "metadata": {
        "colab": {
          "base_uri": "https://localhost:8080/"
        },
        "id": "3tNK4o9oY5a3",
        "outputId": "757fd8f6-f67a-47f3-84c3-0412dfa6cf8a"
      },
      "outputs": [
        {
          "name": "stderr",
          "output_type": "stream",
          "text": [
            "2025-04-19 00:14:36,483 - INFO - AFC is enabled with max remote calls: 10.\n",
            "2025-04-19 00:14:55,825 - INFO - HTTP Request: POST https://generativelanguage.googleapis.com/v1beta/models/gemini-2.5-flash-preview-04-17:generateContent \"HTTP/1.1 200 OK\"\n"
          ]
        },
        {
          "name": "stdout",
          "output_type": "stream",
          "text": [
            "日本の地震の誤報について説明します。これは主に気象庁が発表する**緊急地震速報（EEW: Earthquake Early Warning）**に関する問題として語られることが多いです。\n",
            "\n",
            "**緊急地震速報とは？**\n",
            "\n",
            "地震の発生直後に震源に近い観測点で地震波（P波）を捉え、震源、地震の規模（マグニチュード）を瞬時に推定し、主要な揺れ（S波）が到達する前に、大きな揺れが予測される地域に警報を発するシステムです。数秒から数十秒の猶予しかない場合が多いですが、この時間で身の安全を確保するなどの行動をとることができます。\n",
            "\n",
            "**誤報の定義と原因**\n",
            "\n",
            "緊急地震速報における「誤報」とは、主に以下のようなケースを指します。\n",
            "\n",
            "1.  **実際には大きな地震が発生していないのに、警報や予報が出されるケース:**\n",
            "    *   **ノイズや複数の微小な揺れの誤認識:** 地震以外の振動（雷、工事、鉄道、機器の誤作動など）や、ごく小さな地震が複数同時に起きた場合などに、システムが大きな一つの地震と誤認して発表してしまうことがあります。\n",
            "    *   **処理上のエラー:** 観測データを取りまとめるシステムや、震源・マグニチュードを推定する計算過程での一時的な不具合やエラー。\n",
            "2.  **予測された震度や震源が実際と大きく異なるケース:**\n",
            "    *   初期データだけでは正確な推定が難しいため、特に速報性を重視する性質上、発生直後の情報で予測した内容がその後の解析で修正されることがあります。極端な場合は「警報級の揺れ」として発表された地域で、実際にはそれほど大きな揺れが観測されないこともあります。\n",
            "\n",
            "**誤報の発生状況と対策**\n",
            "\n",
            "*   緊急地震速報が本格運用されて以降、特に初期には誤報や過大な予測が問題となるケースが何度かありました。これは、速報性を最優先するため、限られたデータで迅速に判断する必要があるシステムの宿命でもあります。\n",
            "*   誤報によって、鉄道が緊急停止したり、工場が操業を止めたり、人々が混乱したりといった影響が出ます。また、誤報が繰り返されると、システムへの信頼性が損なわれ、「狼少年」状態となり、いざ本当に危険な地震が発生した際に警告が無視されてしまう（オオカミ少年効果、警告疲労）という懸念があります。\n",
            "*   気象庁は、誤報を減らすために様々な対策を講じてきました。\n",
            "    *   地震計ネットワークの強化とデータの質の向上。\n",
            "    *   ノイズを判別するアルゴリズムの改善。\n",
            "    *   複数の地震を一つの大きな地震と誤認しないための処理の改善。\n",
            "    *   より正確な震源・マグニチュード推定手法の開発。\n",
            "    *   警報発表の基準の見直しや、より信頼性の高い情報が出せるようにシステムの改良を継続的に行っています。\n",
            "*   これらの対策により、以前に比べて誤報は減る傾向にありますが、システムの性質上、ゼロにすることは極めて困難です。速報性と正確性のバランスは常に課題となります。\n",
            "\n",
            "**現在の状況**\n",
            "\n",
            "現在でも、ごく稀に誤報が発生することはあります。発生した際には、気象庁からその旨（「誤りであった」または「情報が更新された」）が伝えられます。また、どのような原因で誤報が発生したのかについても分析・公表されることがあります。\n",
            "\n",
            "緊急地震速報は、限られた時間の中で人命や社会活動を守るための非常に有用なシステムですが、その性質上、誤報のリスクもゼロではありません。利用する側も、このシステムはあくまで速報であり、完璧ではないことを理解しておくことが重要です。\n"
          ]
        }
      ],
      "source": [
        "from google import genai\n",
        "from google.genai import types\n",
        "client = genai.Client(api_key=userdata.get(\"GOOGLE_API_KEY\"))\n",
        "response = await client.aio.models.generate_content(\n",
        "    model='gemini-2.5-flash-preview-04-17',\n",
        "    contents=f'日本の地震の誤報の状況を説明しなさい。',\n",
        ")\n",
        "print(response.text)\n"
      ]
    },
    {
      "cell_type": "code",
      "execution_count": null,
      "metadata": {
        "colab": {
          "base_uri": "https://localhost:8080/"
        },
        "id": "vQbxPzLmPvqX",
        "outputId": "be9b4439-5690-4da0-e86c-5ef120341a8a"
      },
      "outputs": [
        {
          "name": "stdout",
          "output_type": "stream",
          "text": [
            "Googleへの認証を開始します...\n",
            "認証成功。\n",
            "gspreadクライアントを初期化しました。\n"
          ]
        },
        {
          "name": "stderr",
          "output_type": "stream",
          "text": [
            "2025-04-19 00:16:59,798 - INFO - Updating authtoken for default \"config_path\" of \"ngrok_path\": /root/.config/ngrok/ngrok\n",
            "2025-04-19 00:16:59,815 - INFO - Opening tunnel named: http-9001-c6ac529a-5069-4861-97ef-53656e234bc9\n",
            "2025-04-19 00:16:59,830 - INFO - t=2025-04-19T00:16:59+0000 lvl=info msg=\"no configuration paths supplied\"\n",
            "2025-04-19 00:16:59,831 - INFO - t=2025-04-19T00:16:59+0000 lvl=info msg=\"using configuration at default config path\" path=/root/.config/ngrok/ngrok.yml\n",
            "2025-04-19 00:16:59,832 - INFO - t=2025-04-19T00:16:59+0000 lvl=info msg=\"open config file\" path=/root/.config/ngrok/ngrok.yml err=nil\n",
            "2025-04-19 00:16:59,848 - INFO - t=2025-04-19T00:16:59+0000 lvl=info msg=\"starting web service\" obj=web addr=127.0.0.1:4040 allow_hosts=[]\n"
          ]
        },
        {
          "name": "stdout",
          "output_type": "stream",
          "text": [
            "スプレッドシート 'ngrok_socket' のシート 'colab' へのアクセスを確認しました。\n",
            "Starting main process...\n"
          ]
        },
        {
          "name": "stderr",
          "output_type": "stream",
          "text": [
            "2025-04-19 00:17:00,505 - INFO - t=2025-04-19T00:17:00+0000 lvl=info msg=\"client session established\" obj=tunnels.session\n",
            "2025-04-19 00:17:00,506 - INFO - t=2025-04-19T00:17:00+0000 lvl=info msg=\"tunnel session started\" obj=tunnels.session\n",
            "2025-04-19 00:17:00,508 - INFO - t=2025-04-19T00:17:00+0000 lvl=info msg=start pg=/api/tunnels id=20d51ff35db6df9b\n",
            "2025-04-19 00:17:00,509 - INFO - t=2025-04-19T00:17:00+0000 lvl=info msg=end pg=/api/tunnels id=20d51ff35db6df9b status=200 dur=383.269µs\n",
            "2025-04-19 00:17:00,509 - INFO - t=2025-04-19T00:17:00+0000 lvl=info msg=start pg=/api/tunnels id=bb0d9bee321f15c3\n",
            "2025-04-19 00:17:00,511 - INFO - t=2025-04-19T00:17:00+0000 lvl=info msg=end pg=/api/tunnels id=bb0d9bee321f15c3 status=200 dur=119.287µs\n",
            "2025-04-19 00:17:00,512 - INFO - t=2025-04-19T00:17:00+0000 lvl=info msg=start pg=/api/tunnels id=fe416d28d96a2422\n",
            "2025-04-19 00:17:00,735 - INFO - t=2025-04-19T00:17:00+0000 lvl=info msg=\"started tunnel\" obj=tunnels name=http-9001-c6ac529a-5069-4861-97ef-53656e234bc9 addr=http://localhost:9001 url=https://0414-34-124-214-179.ngrok-free.app\n",
            "2025-04-19 00:17:00,737 - INFO - t=2025-04-19T00:17:00+0000 lvl=info msg=end pg=/api/tunnels id=fe416d28d96a2422 status=201 dur=223.076305ms\n"
          ]
        },
        {
          "name": "stdout",
          "output_type": "stream",
          "text": [
            "ngrok tunnel opened: NgrokTunnel: \"https://0414-34-124-214-179.ngrok-free.app\" -> \"http://localhost:9001\"\n",
            "スプレッドシート 'colab' のセル 'A1' にURLを書き込み中...\n",
            "GASからアクセスするためのURLはスプレッドシート (colab!A1) を参照してください。\n",
            "(参考: 現在のURLは NgrokTunnel: \"https://0414-34-124-214-179.ngrok-free.app\" -> \"http://localhost:9001\"/process です)\n",
            "Starting server on http://localhost:9001 ...\n",
            "Server started on port 9001\n"
          ]
        },
        {
          "name": "stderr",
          "output_type": "stream",
          "text": [
            "2025-04-19 00:19:18,083 - INFO - t=2025-04-19T00:19:18+0000 lvl=info msg=\"join connections\" obj=join id=567f7c26570f l=127.0.0.1:9001 r=220.146.53.31:61824\n",
            "2025-04-19 00:19:18,084 - INFO - 127.0.0.1 [19/Apr/2025:00:19:18 +0000] \"OPTIONS /process HTTP/1.1\" 200 284 \"http://localhost:9000/\" \"Mozilla/5.0 (Windows NT 10.0; Win64; x64) AppleWebKit/537.36 (KHTML, like Gecko) Chrome/135.0.0.0 Safari/537.36\"\n",
            "2025-04-19 00:19:18,451 - INFO - 127.0.0.1 [19/Apr/2025:00:19:18 +0000] \"POST /process HTTP/1.1\" 500 305 \"http://localhost:9000/\" \"Mozilla/5.0 (Windows NT 10.0; Win64; x64) AppleWebKit/537.36 (KHTML, like Gecko) Chrome/135.0.0.0 Safari/537.36\"\n"
          ]
        },
        {
          "name": "stdout",
          "output_type": "stream",
          "text": [
            "Received data: {'key2': '日付', 'key3': True}\n",
            "An error occurred: 'prompt'\n"
          ]
        },
        {
          "name": "stderr",
          "output_type": "stream",
          "text": [
            "2025-04-19 00:21:41,013 - INFO - t=2025-04-19T00:21:41+0000 lvl=info msg=\"join connections\" obj=join id=8bac3d1dd8c3 l=127.0.0.1:9001 r=220.146.53.31:61824\n",
            "2025-04-19 00:21:41,014 - INFO - 127.0.0.1 [19/Apr/2025:00:21:41 +0000] \"OPTIONS /process HTTP/1.1\" 200 284 \"http://localhost:9000/\" \"Mozilla/5.0 (Windows NT 10.0; Win64; x64) AppleWebKit/537.36 (KHTML, like Gecko) Chrome/135.0.0.0 Safari/537.36\"\n",
            "2025-04-19 00:21:41,401 - INFO - AFC is enabled with max remote calls: 10.\n"
          ]
        },
        {
          "name": "stdout",
          "output_type": "stream",
          "text": [
            "Received data: {'prompt': 'Geminiはどこのサーバーでかどうしているの？', 'key2': '日付', 'key3': True}\n"
          ]
        },
        {
          "name": "stderr",
          "output_type": "stream",
          "text": [
            "2025-04-19 00:21:52,453 - INFO - HTTP Request: POST https://generativelanguage.googleapis.com/v1beta/models/gemini-2.5-flash-preview-04-17:generateContent \"HTTP/1.1 200 OK\"\n",
            "2025-04-19 00:21:52,456 - INFO - 127.0.0.1 [19/Apr/2025:00:21:41 +0000] \"POST /process HTTP/1.1\" 200 3633 \"http://localhost:9000/\" \"Mozilla/5.0 (Windows NT 10.0; Win64; x64) AppleWebKit/537.36 (KHTML, like Gecko) Chrome/135.0.0.0 Safari/537.36\"\n",
            "2025-04-19 00:26:51,878 - INFO - t=2025-04-19T00:26:51+0000 lvl=info msg=\"join connections\" obj=join id=1565911bf252 l=127.0.0.1:9001 r=220.146.53.31:62471\n",
            "2025-04-19 00:26:51,880 - INFO - 127.0.0.1 [19/Apr/2025:00:26:51 +0000] \"OPTIONS /process HTTP/1.1\" 200 284 \"http://localhost:9000/\" \"Mozilla/5.0 (Windows NT 10.0; Win64; x64) AppleWebKit/537.36 (KHTML, like Gecko) Chrome/135.0.0.0 Safari/537.36\"\n",
            "2025-04-19 00:26:52,239 - INFO - AFC is enabled with max remote calls: 10.\n"
          ]
        },
        {
          "name": "stdout",
          "output_type": "stream",
          "text": [
            "Received data: {'prompt': '一人法人を設立したが、従業員がいなく、報酬もない場合に、社会保険事務所に対して行うべき手続きはあるか？', 'key2': '日付', 'key3': True}\n"
          ]
        },
        {
          "name": "stderr",
          "output_type": "stream",
          "text": [
            "2025-04-19 00:27:12,108 - INFO - HTTP Request: POST https://generativelanguage.googleapis.com/v1beta/models/gemini-2.5-flash-preview-04-17:generateContent \"HTTP/1.1 200 OK\"\n",
            "2025-04-19 00:27:12,111 - INFO - 127.0.0.1 [19/Apr/2025:00:26:52 +0000] \"POST /process HTTP/1.1\" 200 6312 \"http://localhost:9000/\" \"Mozilla/5.0 (Windows NT 10.0; Win64; x64) AppleWebKit/537.36 (KHTML, like Gecko) Chrome/135.0.0.0 Safari/537.36\"\n"
          ]
        }
      ],
      "source": [
        "# --- 定数設定 ---\n",
        "# Step 1で取得したスプレッドシートIDに置き換えてください\n",
        "nest_asyncio.apply()\n",
        "\n",
        "FOLDER_ID = '1jo42u-OqteETRNskOj4ikG20h8AURgbq'\n",
        "SPREADSHEET_NAME = 'ngrok_socket'\n",
        "SHEET_NAME = 'colab'\n",
        "CELL_LOCATION = 'A1' # URLを書き込むセル\n",
        "# ... (他のインポート) ...\n",
        "\n",
        "\n",
        "# ngrokトークン (変更なし)\n",
        "NGROK_TOKEN = userdata.get('NGROK_AUTH_TOKEN')\n",
        "# ... (トークンチェック) ...\n",
        "\n",
        "# --- Googleサービスへの認証 (修正箇所) ---\n",
        "gc = None # グローバル変数として宣言しておくと後で使いやすい\n",
        "worksheet = None # 同様\n",
        "\n",
        "try:\n",
        "    print(\"Googleへの認証を開始します...\")\n",
        "    auth.authenticate_user()\n",
        "    print(\"認証成功。\")\n",
        "\n",
        "    # --- gspread クライアントの初期化 (修正) ---\n",
        "    # google.auth.default() でデフォルトの認証情報を取得\n",
        "    creds, project = google.auth.default()\n",
        "\n",
        "    # scopeを明示的に指定 (Spreadsheet API と Drive API)\n",
        "    scoped_creds = creds.with_scopes([\n",
        "        'https://www.googleapis.com/auth/spreadsheets',\n",
        "        'https://www.googleapis.com/auth/drive' # Drive APIも使う場合に備える\n",
        "    ])\n",
        "    gc = gspread.Client(auth=scoped_creds) # 認証情報を使ってClientインスタンスを作成\n",
        "    # ------------------------------------------\n",
        "\n",
        "    print(\"gspreadクライアントを初期化しました。\")\n",
        "    # スプレッドシートを開く (修正) - Clientインスタンスのメソッドを使う\n",
        "    spreadsheet = gc.open(SPREADSHEET_NAME,folder_id = FOLDER_ID)\n",
        "    worksheet = spreadsheet.worksheet(SHEET_NAME)\n",
        "    # ----------------------------------\n",
        "\n",
        "    print(f\"スプレッドシート '{spreadsheet.title}' のシート '{worksheet.title}' へのアクセスを確認しました。\")\n",
        "except gspread.exceptions.SpreadsheetNotFound:\n",
        "     print(f\"エラー: 指定されたスプレッドシートID '{SPREADSHEET_NAME}' が見つかりません。IDを確認してください。\")\n",
        "     raise\n",
        "except gspread.exceptions.WorksheetNotFound:\n",
        "     print(f\"エラー: 指定されたシート名 '{SHEET_NAME}' がスプレッドシート内に見つかりません。シート名を確認してください。\")\n",
        "     raise\n",
        "except Exception as e:\n",
        "    print(f\"Google認証またはスプレッドシートへのアクセス中にエラーが発生しました: {e}\")\n",
        "    raise\n",
        "\n",
        "# --- スプレッドシートにURLを書き込む関数 (修正箇所) ---\n",
        "def update_ngrok_url_in_sheet(public_url):\n",
        "    global worksheet # グローバル変数 worksheet を使用\n",
        "    if not worksheet:\n",
        "        print(\"エラー: worksheet オブジェクトが初期化されていません。\")\n",
        "        return\n",
        "    try:\n",
        "        print(f\"スプレッドシート '{SHEET_NAME}' のセル '{CELL_LOCATION}' にURLを書き込み中...\")\n",
        "        match = re.search(r\"https://(.*?)\\.app\", public_url)\n",
        "        if match:\n",
        "          extracted_string = match.group(1)\n",
        "          url = f\"https://{extracted_string}.app/process\"\n",
        "          worksheet.update([[url]],CELL_LOCATION) # updateメソッドを使う\n",
        "        else:\n",
        "          print(\"No match found.\")\n",
        "    # ... (エラーハンドリングは同じ) ...\n",
        "    except gspread.exceptions.APIError as e:\n",
        "         print(f\"スプレッドシートへの書き込み中にAPIエラーが発生しました: {e}\")\n",
        "         print(\"詳細:\", e.response.text)\n",
        "    except Exception as e:\n",
        "        print(f\"スプレッドシートへの書き込み中に予期せぬエラーが発生しました: {e}\")\n",
        "\n",
        "\n",
        "# --- aiohttpサーバーコード (変更なし) ---\n",
        "# ... (handle_post, app, run_server) ...\n",
        "async def handle_post(request):\n",
        "    # ... (変更なし) ...\n",
        "    try:\n",
        "        data = await request.json()\n",
        "        print(\"Received data:\", data)\n",
        "        response_data = {\n",
        "            \"status\": \"success\",\n",
        "            \"received\": data,\n",
        "            \"message\": \"Data received successfully by Colab!\"\n",
        "        }\n",
        "        return web.json_response(response_data)\n",
        "    except json.JSONDecodeError:\n",
        "        print(\"Invalid JSON received\")\n",
        "        return web.Response(status=400, text=\"Invalid JSON format\")\n",
        "    except Exception as e:\n",
        "        print(f\"Error processing request: {e}\")\n",
        "        return web.Response(status=500, text=f\"Internal Server Error: {e}\")\n",
        "\n",
        "\n",
        "import aiohttp_cors\n",
        "import json\n",
        "\n",
        "async def process_handler(request):\n",
        "    \"\"\"\n",
        "    /process エンドポイントのハンドラ関数\n",
        "    \"\"\"\n",
        "    try:\n",
        "        # リクエストボディからJSONデータを取得\n",
        "        # クライアント側で Content-Type: application/json を設定している前提\n",
        "        data = await request.json()\n",
        "        print(\"Received data:\", data)\n",
        "        response = await client.aio.models.generate_content(\n",
        "            model='gemini-2.5-flash-preview-04-17',\n",
        "            contents=data[\"prompt\"],\n",
        "        )\n",
        "        # ここで受け取ったデータを処理...\n",
        "\n",
        "        # 成功レスポンスを返す\n",
        "        return web.json_response({\"message\": \"Data processed successfully!\", \"received\": response.text})\n",
        "\n",
        "    except json.JSONDecodeError:\n",
        "        # JSONとしてパースできない場合のエラー\n",
        "        return web.json_response({\"error\": \"Invalid JSON\"}, status=400)\n",
        "    except Exception as e:\n",
        "        # その他のエラーハンドリング\n",
        "        print(f\"An error occurred: {e}\")\n",
        "        return web.json_response({\"error\": \"Internal Server Error\"}, status=500)\n",
        "\n",
        "def cors_app(app):\n",
        "    \"\"\"\n",
        "    aiohttp アプリケーションを作成し、CORSを設定する関数\n",
        "    \"\"\"\n",
        "\n",
        "    # CORSの設定\n",
        "    # ここでどのルートに対して、どのオリジンからのアクセスを許可するかを設定します。\n",
        "    cors = aiohttp_cors.setup(app, defaults={\n",
        "        # 全てのオリジンからのアクセスを許可する場合（開発中は便利ですが、本番環境では推奨されません）\n",
        "        # \"*\": aiohttp_cors.ResourceOptions(\n",
        "        #     allow_credentials=True,\n",
        "        #     allow_headers=\"*\", # 全てのヘッダーを許可\n",
        "        #     allow_methods=\"*\"  # 全てのHTTPメソッド (GET, POST, PUT, DELETE...) を許可\n",
        "        # )\n",
        "\n",
        "        # 特定のオリジンのみを許可する場合 (より安全)\n",
        "        \"http://localhost:9000\": aiohttp_cors.ResourceOptions(\n",
        "            allow_credentials=True,\n",
        "            allow_headers=(\"Content-Type\",), # クライアントが送信するヘッダーを指定\n",
        "            allow_methods=(\"POST\",),        # 許可するHTTPメソッドを指定 (今回はPOST)\n",
        "        )\n",
        "    })\n",
        "\n",
        "    # ルートを定義し、CORS設定を適用\n",
        "    # ここで /process エンドポイントを追加します\n",
        "    resource = cors.add(app.router.add_resource(\"/process\"))\n",
        "    cors.add(resource.add_route(\"POST\", process_handler))\n",
        "\n",
        "    # 例としてルート以外のパスへのアクセスも許可したい場合は、\n",
        "    # 例えば、静的ファイルを提供するルートなどにも cors.add() を適用します。\n",
        "    # cors.add(app.router.add_static('/static', path='./static'))\n",
        "\n",
        "    return app\n",
        "\n",
        "\n",
        "app = web.Application()\n",
        "#app.router.add_post('/process', handle_post)\n",
        "\n",
        "async def run_server(port=8080):\n",
        "    # ... (変更なし) ...\n",
        "\n",
        "    runner = web.AppRunner(cors_app(app))\n",
        "    await runner.setup()\n",
        "    site = web.TCPSite(runner, 'localhost', port)\n",
        "    print(f\"Starting server on http://localhost:{port} ...\")\n",
        "    await site.start()\n",
        "    print(f\"Server started on port {port}\")\n",
        "    while True:\n",
        "        await asyncio.sleep(3600)\n",
        "\n",
        "\n",
        "# --- ngrokトンネルを開始する関数 (変更なし) ---\n",
        "def start_ngrok(port=8080):\n",
        "    from pyngrok import ngrok\n",
        "    public_url = None\n",
        "    try:\n",
        "        ngrok.set_auth_token(NGROK_TOKEN)\n",
        "        public_url = ngrok.connect(port, \"http\")\n",
        "\n",
        "        print(f\"ngrok tunnel opened: {public_url}\")\n",
        "        if public_url:\n",
        "            update_ngrok_url_in_sheet(str(public_url))\n",
        "        return public_url\n",
        "    except Exception as e:\n",
        "        print(f\"Error starting ngrok or writing to sheet: {e}\")\n",
        "        try:\n",
        "            ngrok.kill()\n",
        "        except:\n",
        "            pass\n",
        "        return None\n",
        "\n",
        "# --- main関数 (変更なし) ---\n",
        "async def main():\n",
        "    port = 9001\n",
        "    public_url = start_ngrok(port)\n",
        "    if public_url:\n",
        "        print(f\"GASからアクセスするためのURLはスプレッドシート ({SHEET_NAME}!{CELL_LOCATION}) を参照してください。\")\n",
        "        print(f\"(参考: 現在のURLは {public_url}/process です)\")\n",
        "        await run_server(port)\n",
        "    else:\n",
        "        print(\"ngrokの起動またはスプレッドシートへの書き込みに失敗したため、サーバーを起動しません。\")\n",
        "\n",
        "# --- 実行部分 (変更なし) ---\n",
        "if __name__ == '__main__':\n",
        "   # ... (変更なし) ...\n",
        "   try:\n",
        "       print(\"Starting main process...\")\n",
        "       asyncio.run(main())\n",
        "   except KeyboardInterrupt:\n",
        "       print(\"Server stopped manually.\")\n",
        "   except Exception as e:\n",
        "        print(f\"An unexpected error occurred: {e}\")\n",
        "   finally:\n",
        "        # ... (ngrok kill 処理) ...\n",
        "        try:\n",
        "            from pyngrok import ngrok\n",
        "            print(\"Disconnecting ngrok...\")\n",
        "            ngrok.kill()\n",
        "            print(\"ngrok disconnected.\")\n",
        "        except Exception as e:\n",
        "            print(f\"Could not kill ngrok tunnel: {e}\")\n"
      ]
    },
    {
      "cell_type": "markdown",
      "metadata": {
        "id": "SniYk1xVPsKH"
      },
      "source": [
        "# Server\n"
      ]
    },
    {
      "cell_type": "markdown",
      "metadata": {
        "id": "OEzySWpmMufC"
      },
      "source": [
        "# Simple-Server\n"
      ]
    },
    {
      "cell_type": "code",
      "execution_count": null,
      "metadata": {
        "id": "8fXlAfwkMbta"
      },
      "outputs": [],
      "source": [
        "nest_asyncio.apply()\n",
        "\n",
        "# ngrokトークンをSecretsから取得\n",
        "NGROK_TOKEN = userdata.get('NGROK_AUTH_TOKEN')\n",
        "if not NGROK_TOKEN:\n",
        "    print(\"NGROK_AUTH_TOKEN がColab Secretsに設定されていません。\")\n",
        "    # ここで処理を中断するか、デフォルトの処理を行う\n",
        "\n",
        "# POSTリクエストを処理するハンドラ関数\n",
        "async def handle_post(request):\n",
        "    try:\n",
        "        # リクエストボディをJSONとしてパース\n",
        "        data = await request.json()\n",
        "        print(\"Received data:\", data) # Colabの出力に受信データを表示\n",
        "\n",
        "        # ここで受け取ったデータに基づいた処理を行う (例: IDCSAの呼び出し)\n",
        "        # 今回は受け取ったデータをそのまま返す簡単な応答\n",
        "        response_data = {\n",
        "            \"status\": \"success\",\n",
        "            \"received\": data,\n",
        "            \"message\": \"Data received successfully by Colab!\"\n",
        "        }\n",
        "        return web.json_response(response_data)\n",
        "    except json.JSONDecodeError:\n",
        "        print(\"Invalid JSON received\")\n",
        "        return web.Response(status=400, text=\"Invalid JSON format\")\n",
        "    except Exception as e:\n",
        "        print(f\"Error processing request: {e}\")\n",
        "        return web.Response(status=500, text=f\"Internal Server Error: {e}\")\n",
        "\n",
        "# aiohttpアプリケーションのセットアップ\n",
        "app = web.Application()\n",
        "app.router.add_post('/process', handle_post) # POSTエンドポイントを /process に設定\n",
        "\n",
        "# サーバーを非同期で起動する関数\n",
        "async def run_server(port=8080): # デフォルトポートを8080に設定\n",
        "    runner = web.AppRunner(app)\n",
        "    await runner.setup()\n",
        "    site = web.TCPSite(runner, 'localhost', port)\n",
        "    print(f\"Starting server on http://localhost:{port} ...\")\n",
        "    await site.start()\n",
        "    print(f\"Server started on port {port}\")\n",
        "    # サーバーが停止するまで待機 (Colabでは通常手動停止)\n",
        "    while True:\n",
        "        await asyncio.sleep(3600) # 例: 1時間ごとにスリープ解除 (維持のため)\n",
        "\n",
        "# ngrokトンネルを開始する関数\n",
        "def start_ngrok(port=8080):\n",
        "    from pyngrok import ngrok\n",
        "    try:\n",
        "        # 認証トークンを設定\n",
        "        ngrok.set_auth_token(NGROK_TOKEN)\n",
        "        # 指定したポートへのHTTPトンネルを開始\n",
        "        public_url = ngrok.connect(port, \"http\")\n",
        "        print(f\"ngrok tunnel opened: {public_url}\")\n",
        "        return public_url\n",
        "    except Exception as e:\n",
        "        print(f\"Error starting ngrok: {e}\")\n",
        "        # ngrokプロセスを終了させる試み (クリーンアップ)\n",
        "        try:\n",
        "            ngrok.kill()\n",
        "        except:\n",
        "            pass # エラー時は無視\n",
        "        return None\n",
        "\n",
        "# サーバーとngrokを起動 (非同期で)\n",
        "async def main():\n",
        "    port = 9000\n",
        "    # ngrokを起動し、公開URLを取得\n",
        "    public_url = start_ngrok(port) # ポート8080を使用\n",
        "\n",
        "    if public_url:\n",
        "        print(f\"GASからアクセスするURL: {public_url}/process\") # GASで使う完全なURLを表示\n",
        "        # aiohttpサーバーを起動\n",
        "        await run_server(port)\n",
        "    else:\n",
        "        print(\"ngrokの起動に失敗したため、サーバーを起動しません。\")\n",
        "\n",
        "# asyncioイベントループで main() を実行\n",
        "if __name__ == '__main__': # 直接実行された場合のみ\n",
        "   try:\n",
        "       print(\"Starting main process...\")\n",
        "       asyncio.run(main())\n",
        "   except KeyboardInterrupt:\n",
        "       print(\"Server stopped manually.\")\n",
        "   except Exception as e:\n",
        "        print(f\"An unexpected error occurred: {e}\")\n",
        "   finally:\n",
        "        # ngrokプロセスを終了 (Colabセッション終了時に確実に停止させる)\n",
        "        try:\n",
        "            from pyngrok import ngrok\n",
        "            print(\"Disconnecting ngrok...\")\n",
        "            ngrok.kill()\n",
        "            print(\"ngrok disconnected.\")\n",
        "        except Exception as e:\n",
        "            print(f\"Could not kill ngrok tunnel: {e}\")"
      ]
    },
    {
      "cell_type": "markdown",
      "metadata": {
        "id": "CofioAY9vpKt"
      },
      "source": [
        "# Jsonの確認"
      ]
    },
    {
      "cell_type": "markdown",
      "metadata": {
        "id": "h0YReXXLz6Ol"
      },
      "source": [
        "## idcsa_expand_contract"
      ]
    },
    {
      "cell_type": "markdown",
      "metadata": {
        "id": "c_8tsDB4xCZI"
      },
      "source": [
        "## Json dump\n"
      ]
    },
    {
      "cell_type": "markdown",
      "metadata": {
        "id": "2HnaqG84xGUw"
      },
      "source": [
        "## template load\n"
      ]
    },
    {
      "cell_type": "markdown",
      "metadata": {
        "id": "SGugP92dS86J"
      },
      "source": [
        "## file mangement"
      ]
    },
    {
      "cell_type": "markdown",
      "metadata": {
        "id": "nni6ijUETDpJ"
      },
      "source": [
        "\n",
        "\n",
        "1.   File API を使用すると、任意のサイズのドキュメントをアップロードできます。リクエストの合計サイズ（ファイル、テキスト プロンプト、システム インストラクションなど）が 20 MB を超える場合は、常に File API を使用してください。\n",
        "2.   注: File API では、プロジェクトごとに最大 20 GB のファイルを保存できます。ファイルあたりの最大サイズは 2 GB です。ファイルは 48 時間保存されます。この期間中は API キーを使用してアクセスできますが、API からダウンロードすることはできません。File API は、Gemini API が利用可能なすべてのリージョンで無料で利用できます。\n",
        "\n",
        "3.  media.upload を呼び出して、File API を使用してファイルをアップ\n",
        "ロードします。次のコードは、ドキュメント ファイルをアップロードし、models.generateContent の呼び出しでそのファイルを使用します。\n",
        "\n",
        "4.  URL からの大容量の PDF\n",
        "URL から取得できる大規模な PDF ファイルには File API を使用して、URL から直接これらのドキュメントをアップロードして処理するプロセスを簡素化します\n",
        "\n"
      ]
    },
    {
      "cell_type": "markdown",
      "metadata": {
        "id": "E0x4gOFrTfng"
      },
      "source": [
        "### 20MB未満"
      ]
    },
    {
      "cell_type": "markdown",
      "metadata": {
        "id": "ovTivmmsz_k9"
      },
      "source": [
        "## GeneratorTest"
      ]
    },
    {
      "cell_type": "markdown",
      "metadata": {
        "id": "tvtgWHVu8IHh"
      },
      "source": [
        "## System Instruction"
      ]
    },
    {
      "cell_type": "code",
      "execution_count": null,
      "metadata": {
        "colab": {
          "base_uri": "https://localhost:8080/"
        },
        "id": "2VzslxScLvTI",
        "outputId": "ee763502-733c-4c41-c52e-950d87b66f0a"
      },
      "outputs": [
        {
          "name": "stderr",
          "output_type": "stream",
          "text": [
            "2025-04-08 07:35:58,353 - INFO - Using 'expiration_time' (2025-04-10T06:47:08.139005+00:00) for file ID '1eQrRenUCPmXqAYJ4kd5khHwh6qpOc5C-MlNRgrlQXN8'.\n",
            "2025-04-08 07:35:58,354 - INFO - File ID '1eQrRenUCPmXqAYJ4kd5khHwh6qpOc5C-MlNRgrlQXN8' (Google AI ID: files/6imv2e5tbyze) is likely valid until 2025-04-10T06:47:08.139005+00:00 UTC (based on expiration_time).\n",
            "2025-04-08 07:35:58,715 - INFO - HTTP Request: GET https://generativelanguage.googleapis.com/v1beta/files \"HTTP/1.1 200 OK\"\n",
            "2025-04-08 07:35:58,793 - INFO - HTTP Request: GET https://generativelanguage.googleapis.com/v1beta/files/6imv2e5tbyze \"HTTP/1.1 200 OK\"\n"
          ]
        }
      ],
      "source": [
        "philosophy_doc=fdb.upload(\"1eQrRenUCPmXqAYJ4kd5khHwh6qpOc5C-MlNRgrlQXN8\")"
      ]
    },
    {
      "cell_type": "code",
      "execution_count": null,
      "metadata": {
        "id": "orqwjTmMOqY2"
      },
      "outputs": [],
      "source": [
        "partial_data = {\n",
        "    \"background_doc_name\": philosophy_doc.name\n",
        "}\n",
        "\n",
        "# --- テンプレートの部分適用 ---\n",
        "\n",
        "system_prompt_template = pro._create_system_prompt( SI.IDCSA,partial_data)"
      ]
    },
    {
      "cell_type": "code",
      "execution_count": null,
      "metadata": {
        "colab": {
          "base_uri": "https://localhost:8080/",
          "height": 35
        },
        "id": "MOfIiAGfVzRM",
        "outputId": "2164cb67-8a55-463f-953c-1fe1cf9627a7"
      },
      "outputs": [
        {
          "data": {
            "application/vnd.google.colaboratory.intrinsic+json": {
              "type": "string"
            },
            "text/plain": [
              "'application/pdf'"
            ]
          },
          "execution_count": 36,
          "metadata": {},
          "output_type": "execute_result"
        }
      ],
      "source": [
        "philosophy_doc.mime_type"
      ]
    },
    {
      "cell_type": "code",
      "execution_count": null,
      "metadata": {
        "id": "fjLLcqKvVTuO"
      },
      "outputs": [],
      "source": [
        "config= types.CreateCachedContentConfig(\n",
        "            display_name=CTX_NAME, # used to identify the cache\n",
        "            system_instruction=system_prompt_template.format(),\n",
        "            contents=[philosophy_doc],\n",
        "            ttl=\"300s\",\n",
        "        )\n",
        "cache = generator.client.caches.create(\n",
        "    model=generator.MODEL_NAME,\n",
        "    config=config\n",
        ")"
      ]
    },
    {
      "cell_type": "code",
      "execution_count": null,
      "metadata": {
        "id": "18YgyX0rRYjS"
      },
      "outputs": [],
      "source": [
        "ctx0 = ctx.get(CTX_NAME,generator.MODEL_NAME,system_prompt_template.format(),[philosophy_doc])\n",
        "\n"
      ]
    }
  ],
  "metadata": {
    "colab": {
      "authorship_tag": "ABX9TyMmFbur2n5maQPGu/1KjdtQ",
      "collapsed_sections": [
        "jAGh5NShRq9v",
        "OEzySWpmMufC"
      ],
      "gpuType": "T4",
      "history_visible": true,
      "include_colab_link": true,
      "machine_shape": "hm",
      "provenance": []
    },
    "kernelspec": {
      "display_name": "Python 3",
      "name": "python3"
    },
    "language_info": {
      "name": "python",
      "version": "3.11.2"
    }
  },
  "nbformat": 4,
  "nbformat_minor": 0
}
